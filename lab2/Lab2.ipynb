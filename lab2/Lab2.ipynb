{
 "cells": [
  {
   "cell_type": "markdown",
   "metadata": {},
   "source": [
    "# Lab 2 Quantization"
   ]
  },
  {
   "cell_type": "markdown",
   "metadata": {},
   "source": [
    "Originally developed by instructor Sophia (Yakun) Shao and TAs Alon Amid & Hasan Genc from UC Berkeley, 2020 Spring, \"Hardware for Machine Learning\". Adpated by 2024 Fall \"AI Computing Systems\" teaching team.\n",
    "\n",
    "You are required to fill in the blanks with your code **independently** to complete the quantization process (weights, activations and biases quantization), so we can simulate and verify the quantized NN model on floating-point hardware (CPUs or GPGPUs). It provides us the confidence that the model can be run on a customized 8-bit hardware with limited loss of accuracy. \n",
    "\n",
    "**Throughout this experiment, we use symmetric quantization, which means the \"zero point\" should be 0. Please make sure your results are reproducible and do not change the structure of the CNN (1 point)**.\n"
   ]
  },
  {
   "cell_type": "markdown",
   "metadata": {},
   "source": [
    "## Initial Setup"
   ]
  },
  {
   "cell_type": "markdown",
   "metadata": {},
   "source": [
    "Before beginning the assignment, we import the CIFAR dataset, and train the simple convolutional neural network (CNN) built in Lab1 to classify it."
   ]
  },
  {
   "cell_type": "code",
   "execution_count": 1,
   "metadata": {},
   "outputs": [],
   "source": [
    "import torch\n",
    "import torchvision\n",
    "import torchvision.transforms as transforms\n",
    "import torch.nn as nn\n",
    "import torch.nn.functional as F\n",
    "import torch.optim as optim\n",
    "import os \n",
    "os.environ['KMP_DUPLICATE_LIB_OK'] = 'TRUE'"
   ]
  },
  {
   "cell_type": "markdown",
   "metadata": {},
   "source": [
    "**Reminder:** set the runtime type to \"GPU\" if it is available. "
   ]
  },
  {
   "cell_type": "code",
   "execution_count": 2,
   "metadata": {},
   "outputs": [
    {
     "data": {
      "text/plain": [
       "<torch._C.Generator at 0x7f33dccf9a50>"
      ]
     },
     "execution_count": 2,
     "metadata": {},
     "output_type": "execute_result"
    }
   ],
   "source": [
    "if torch.cuda.is_available():\n",
    "    device = torch.device('cuda')\n",
    "else:\n",
    "    device = torch.device('cpu')\n",
    "torch.manual_seed(2024219)"
   ]
  },
  {
   "cell_type": "markdown",
   "metadata": {},
   "source": [
    "Load training and test data from the CIFAR10 dataset."
   ]
  },
  {
   "cell_type": "code",
   "execution_count": 3,
   "metadata": {},
   "outputs": [
    {
     "name": "stdout",
     "output_type": "stream",
     "text": [
      "Files already downloaded and verified\n",
      "Files already downloaded and verified\n"
     ]
    }
   ],
   "source": [
    "transform = transforms.Compose(\n",
    "    [transforms.ToTensor(),\n",
    "     transforms.Normalize((0.5, 0.5, 0.5), (0.5, 0.5, 0.5))])\n",
    "\n",
    "trainset = torchvision.datasets.CIFAR10(root='/home/ubuntu/data', train=True,\n",
    "                                        download=True, transform=transform)\n",
    "trainloader = torch.utils.data.DataLoader(trainset, batch_size=100,\n",
    "                                          shuffle=False, num_workers=8)\n",
    "\n",
    "testset = torchvision.datasets.CIFAR10(root='/home/ubuntu/data', train=False,\n",
    "                                       download=True, transform=transform)\n",
    "testloader = torch.utils.data.DataLoader(testset, batch_size=100,\n",
    "                                         shuffle=False, num_workers=8)"
   ]
  },
  {
   "cell_type": "markdown",
   "metadata": {},
   "source": [
    "The simple CNN that classifies CIFAR images is built in Lab 1 and has the has the following architecture:"
   ]
  },
  {
   "cell_type": "markdown",
   "metadata": {},
   "source": [
    "**Layer** | **Type** | **Input Shape** | **Output Shape** | **Activation**\n",
    "--- | --- | --- | --- | ---\n",
    "conv1 | Convolutional | 3x32x32 | 12x28x28 | ReLU \n",
    "pool1 | Max pool | 12x28x28 | 12x14x14 | None                \n",
    "conv2 | Convolutional | 12x14x14 | 32x12x12 | ReLU                \n",
    "pool2 | Max pool | 32x12x12 | 32x6x6 | None                \n",
    "fc1 | Fully-connected | 1152 | 256 | ReLU                \n",
    "fc2 | Fully-connected | 256 | 64 | ReLU                \n",
    "fc3 | Fully-connected | 64 | 10 | None                \n",
    "\n",
    "None of the layers in the network have a bias associated with them.\n",
    "This makes them easier to quantize.\n",
    "Towards the end of this assignment, we will add biases to the final layer and quantize it as well."
   ]
  },
  {
   "cell_type": "code",
   "execution_count": 4,
   "metadata": {},
   "outputs": [],
   "source": [
    "class Net(nn.Module):\n",
    "    def __init__(self):\n",
    "        super(Net, self).__init__()\n",
    "        self.conv1 = nn.Conv2d(3, 12, 5, bias=False)\n",
    "        self.pool = nn.MaxPool2d(2, 2) # run after each conv (hence the 5x5 FC layer)\n",
    "        self.conv2 = nn.Conv2d(12, 32, 3, bias=False)\n",
    "        self.fc1 = nn.Linear(32 * 6 * 6, 256, bias=False)\n",
    "        self.fc2 = nn.Linear(256, 64, bias=False)\n",
    "        self.fc3 = nn.Linear(64, 10, bias=False)\n",
    "\n",
    "    def forward(self, x: torch.Tensor) -> torch.Tensor:\n",
    "        x = self.pool(F.relu(self.conv1(x)))\n",
    "        x = self.pool(F.relu(self.conv2(x)))\n",
    "        x = x.view(-1, 32 * 6 * 6)\n",
    "        x = F.relu(self.fc1(x))\n",
    "        x = F.relu(self.fc2(x))\n",
    "        x = self.fc3(x)\n",
    "        return x\n",
    "\n",
    "net = Net().to(device)"
   ]
  },
  {
   "cell_type": "markdown",
   "metadata": {},
   "source": [
    "Define the training and testing process."
   ]
  },
  {
   "cell_type": "code",
   "execution_count": 5,
   "metadata": {},
   "outputs": [],
   "source": [
    "from torch.utils.data import DataLoader\n",
    "\n",
    "def train(model: nn.Module, dataloader: DataLoader):\n",
    "    criterion = nn.CrossEntropyLoss()\n",
    "    optimizer = optim.SGD(model.parameters(), lr=0.015, momentum=0.9)\n",
    "\n",
    "    for epoch in range(10):  # loop over the dataset multiple (2) times\n",
    "\n",
    "        running_loss = 0.0\n",
    "        for i, data in enumerate(dataloader, 0):\n",
    "            # get the inputs; data is a list of [inputs, labels]\n",
    "            inputs, labels = data\n",
    "\n",
    "            inputs = inputs.to(device)\n",
    "            labels = labels.to(device)\n",
    "\n",
    "            # zero the parameter gradients\n",
    "            optimizer.zero_grad()\n",
    "\n",
    "            # forward + backward + optimize\n",
    "            outputs = model(inputs)\n",
    "            loss = criterion(outputs, labels)\n",
    "            loss.backward()\n",
    "            optimizer.step()\n",
    "\n",
    "            # print statistics\n",
    "            running_loss += loss.item()\n",
    "            if i % 100 == 99:    # print every 100 mini-batches\n",
    "                print('[Epoch: %d, Iteration: %5d] loss: %.3f' %\n",
    "                    (epoch + 1, i + 1, running_loss / 100))\n",
    "                running_loss = 0.0\n",
    "\n",
    "    print('Finished Training')\n",
    "\n",
    "def test(model: nn.Module, dataloader: DataLoader, max_samples=None) -> float:\n",
    "    correct = 0\n",
    "    total = 0\n",
    "    n_inferences = 0\n",
    "\n",
    "    with torch.no_grad():\n",
    "        for data in dataloader:\n",
    "            images, labels = data\n",
    "\n",
    "            images = images.to(device)\n",
    "            labels = labels.to(device)\n",
    "\n",
    "            outputs = model(images) # get 1 batch worth of image predictions (i.e. 4 predictions of 10 each)\n",
    "            other, predicted = torch.max(outputs.data, 1) # other == values, predicted == indicies\n",
    "            total += labels.size(0)\n",
    "            correct += (predicted == labels).sum().item()\n",
    "\n",
    "            if max_samples:\n",
    "                n_inferences += images.shape[0]\n",
    "                if n_inferences > max_samples:\n",
    "                    break\n",
    "    \n",
    "    return 100 * correct / total"
   ]
  },
  {
   "cell_type": "markdown",
   "metadata": {},
   "source": [
    "Train this CNN on the training dataset (this may take 20 seconds)."
   ]
  },
  {
   "cell_type": "code",
   "execution_count": 6,
   "metadata": {},
   "outputs": [
    {
     "name": "stdout",
     "output_type": "stream",
     "text": [
      "[Epoch: 1, Iteration:   100] loss: 2.278\n",
      "[Epoch: 1, Iteration:   200] loss: 1.994\n",
      "[Epoch: 1, Iteration:   300] loss: 1.715\n",
      "[Epoch: 1, Iteration:   400] loss: 1.615\n",
      "[Epoch: 1, Iteration:   500] loss: 1.522\n",
      "[Epoch: 2, Iteration:   100] loss: 1.429\n",
      "[Epoch: 2, Iteration:   200] loss: 1.391\n",
      "[Epoch: 2, Iteration:   300] loss: 1.300\n",
      "[Epoch: 2, Iteration:   400] loss: 1.270\n",
      "[Epoch: 2, Iteration:   500] loss: 1.226\n",
      "[Epoch: 3, Iteration:   100] loss: 1.161\n",
      "[Epoch: 3, Iteration:   200] loss: 1.166\n",
      "[Epoch: 3, Iteration:   300] loss: 1.080\n",
      "[Epoch: 3, Iteration:   400] loss: 1.068\n",
      "[Epoch: 3, Iteration:   500] loss: 1.032\n",
      "[Epoch: 4, Iteration:   100] loss: 0.997\n",
      "[Epoch: 4, Iteration:   200] loss: 0.987\n",
      "[Epoch: 4, Iteration:   300] loss: 0.936\n",
      "[Epoch: 4, Iteration:   400] loss: 0.932\n",
      "[Epoch: 4, Iteration:   500] loss: 0.898\n",
      "[Epoch: 5, Iteration:   100] loss: 0.869\n",
      "[Epoch: 5, Iteration:   200] loss: 0.864\n",
      "[Epoch: 5, Iteration:   300] loss: 0.809\n",
      "[Epoch: 5, Iteration:   400] loss: 0.813\n",
      "[Epoch: 5, Iteration:   500] loss: 0.792\n",
      "[Epoch: 6, Iteration:   100] loss: 0.767\n",
      "[Epoch: 6, Iteration:   200] loss: 0.761\n",
      "[Epoch: 6, Iteration:   300] loss: 0.716\n",
      "[Epoch: 6, Iteration:   400] loss: 0.729\n",
      "[Epoch: 6, Iteration:   500] loss: 0.714\n",
      "[Epoch: 7, Iteration:   100] loss: 0.666\n",
      "[Epoch: 7, Iteration:   200] loss: 0.686\n",
      "[Epoch: 7, Iteration:   300] loss: 0.646\n",
      "[Epoch: 7, Iteration:   400] loss: 0.663\n",
      "[Epoch: 7, Iteration:   500] loss: 0.656\n",
      "[Epoch: 8, Iteration:   100] loss: 0.602\n",
      "[Epoch: 8, Iteration:   200] loss: 0.643\n",
      "[Epoch: 8, Iteration:   300] loss: 0.599\n",
      "[Epoch: 8, Iteration:   400] loss: 0.606\n",
      "[Epoch: 8, Iteration:   500] loss: 0.607\n",
      "[Epoch: 9, Iteration:   100] loss: 0.528\n",
      "[Epoch: 9, Iteration:   200] loss: 0.576\n",
      "[Epoch: 9, Iteration:   300] loss: 0.554\n",
      "[Epoch: 9, Iteration:   400] loss: 0.585\n",
      "[Epoch: 9, Iteration:   500] loss: 0.516\n",
      "[Epoch: 10, Iteration:   100] loss: 0.496\n",
      "[Epoch: 10, Iteration:   200] loss: 0.554\n",
      "[Epoch: 10, Iteration:   300] loss: 0.507\n",
      "[Epoch: 10, Iteration:   400] loss: 0.538\n",
      "[Epoch: 10, Iteration:   500] loss: 0.461\n",
      "Finished Training\n"
     ]
    }
   ],
   "source": [
    "train(net, trainloader)"
   ]
  },
  {
   "cell_type": "markdown",
   "metadata": {},
   "source": [
    "Now that the CNN has been trained, let's test it on our test dataset. The test accuracy should be above 60% after 10 epochs of training.  **Report this accuracy (1 point).**"
   ]
  },
  {
   "cell_type": "code",
   "execution_count": 7,
   "metadata": {},
   "outputs": [
    {
     "name": "stdout",
     "output_type": "stream",
     "text": [
      "Accuracy of the network on the test images: 62.71%\n"
     ]
    }
   ],
   "source": [
    "score = test(net, testloader)\n",
    "print('Accuracy of the network on the test images: {}%'.format(score))"
   ]
  },
  {
   "cell_type": "markdown",
   "metadata": {},
   "source": [
    "Define a convenience function which we use to copy CNN's for version control."
   ]
  },
  {
   "cell_type": "code",
   "execution_count": 8,
   "metadata": {},
   "outputs": [],
   "source": [
    "from copy import deepcopy\n",
    "\n",
    "def copy_model(model: nn.Module) -> nn.Module:\n",
    "    result = deepcopy(model)\n",
    "\n",
    "    # Copy over the extra metadata we've collected which copy.deepcopy doesn't capture\n",
    "    if hasattr(model, 'input_activations'):\n",
    "        result.input_activations = deepcopy(model.input_activations)\n",
    "\n",
    "    for result_layer, original_layer in zip(result.children(), model.children()):\n",
    "        if isinstance(result_layer, nn.Conv2d) or isinstance(result_layer, nn.Linear):\n",
    "            if hasattr(original_layer.weight, 'scale'):\n",
    "                result_layer.weight.scale = deepcopy(original_layer.weight.scale)\n",
    "            if hasattr(original_layer, 'activations'):\n",
    "                result_layer.activations = deepcopy(original_layer.activations)\n",
    "            if hasattr(original_layer, 'output_scale'):\n",
    "                result_layer.output_scale = deepcopy(original_layer.output_scale)\n",
    "\n",
    "    return result"
   ]
  },
  {
   "cell_type": "markdown",
   "metadata": {},
   "source": [
    "## Question 1: Visualize Weights\n",
    "### Question 1.1:\n",
    "\n",
    "Plot histograms of the weights of every convolutional and fully-connected layer. Record any observations you make about the distribution of the values and report."
   ]
  },
  {
   "cell_type": "code",
   "execution_count": 9,
   "metadata": {},
   "outputs": [],
   "source": [
    "# Possible required lib\n",
    "import matplotlib.pyplot as plt\n",
    "import numpy as np"
   ]
  },
  {
   "cell_type": "markdown",
   "metadata": {},
   "source": [
    "**ADD YOUR CODE HERE to plot distributions of weights of the original NN model. Add them to the report (0.5 point)**"
   ]
  },
  {
   "cell_type": "code",
   "execution_count": 10,
   "metadata": {},
   "outputs": [
    {
     "data": {
      "image/png": "[encoded data removed]",
      "text/plain": [
       "<Figure size 2400x500 with 6 Axes>"
      ]
     },
     "metadata": {},
     "output_type": "display_data"
    }
   ],
   "source": [
    "# ADD YOUR CODE HERE\n",
    "\n",
    "# You can get a flattened vector of the weights of fc1 like this:\n",
    "#   fc1_weights = net.fc1.weight.data.cpu().view(-1)\n",
    "# Try plotting a histogram of fc1_weights (and the weights of all the other layers as well)\n",
    "# You can use \"hist\" from the matplotlib.pyplot package.\n",
    "\n",
    "def plot_weight_distributions(model: nn.Module):\n",
    "    fig, axs = plt.subplots(1, len(list(model.children())), figsize=(4 * len(list(model.children())), 5))\n",
    "    \n",
    "    if not isinstance(axs, np.ndarray):\n",
    "        axs = [axs]\n",
    "    \n",
    "    for i, layer in enumerate(model.children()):\n",
    "        if isinstance(layer, nn.Conv2d) or isinstance(layer, nn.Linear):\n",
    "            weights = layer.weight.data.cpu().view(-1)\n",
    "            axs[i].hist(weights, bins=50, alpha=0.7)\n",
    "            axs[i].set_title(f\"{layer.__class__.__name__} Weights\")\n",
    "            axs[i].set_xlabel(\"Weights Value\")\n",
    "            axs[i].set_ylabel(\"Frequency\")\n",
    "    \n",
    "    #title = \"Weight Distributions\"\n",
    "    #fig.suptitle(title)\n",
    "    plt.tight_layout()\n",
    "    plt.show()\n",
    "\n",
    "result = copy_model(net)\n",
    "plot_weight_distributions(result)"
   ]
  },
  {
   "cell_type": "markdown",
   "metadata": {},
   "source": [
    "### Question 1.2:\n",
    "\n",
    "Record the range of the weights, as well as their 3-sigma range (the difference between $\\mu + 3\\sigma$ and $\\mu - 3\\sigma$).\n",
    "For which layers is the 3-sigma range larger or smaller than the actual range?\n",
    "\n",
    "**ADD YOUR CODE HERE to record the 3-sigma and actual range of the weights in each layer. Report the results (0.5 point)**"
   ]
  },
  {
   "cell_type": "code",
   "execution_count": 11,
   "metadata": {},
   "outputs": [
    {
     "name": "stdout",
     "output_type": "stream",
     "text": [
      "actual_range: {'conv1.weight': -2.171175003051758, 'conv2.weight': -1.6303778290748596, 'fc1.weight': -0.4932027906179428, 'fc2.weight': -0.664086252450943, 'fc3.weight': -1.25135999917984}\n",
      "sigma_range: {'conv1.weight': 1.9448102116584778, 'conv2.weight': 1.1243379414081573, 'fc1.weight': 0.2617168128490448, 'fc2.weight': 0.47244375944137573, 'fc3.weight': 1.3130184710025787}\n"
     ]
    }
   ],
   "source": [
    "# Useful functions: torch.min/max/mean/std\n",
    "actual_range = {}\n",
    "sigma_range = {}\n",
    "\n",
    "for name, param in net.named_parameters():\n",
    "    weight = param.data.cpu().view(-1)\n",
    "    actual_range[name] = torch.min(weight).item() - torch.max(weight).item()\n",
    "\n",
    "    sigma_range[name] = 6 * torch.std(weight).item()\n",
    "\n",
    "print(f'actual_range: {actual_range}')\n",
    "print(f'sigma_range: {sigma_range}')\n"
   ]
  },
  {
   "cell_type": "markdown",
   "metadata": {},
   "source": [
    "## Question 2: Quantize Weights"
   ]
  },
  {
   "cell_type": "markdown",
   "metadata": {},
   "source": [
    "Any convolution or fully-connected layer pass, without a bias, can be described by the equation:\n",
    "\n",
    "$$W*In = Out$$\n",
    "\n",
    "where $W$ is the weight tensor, $In$ in the input tensor, and $Out$ is the output tensor.\n",
    "\n",
    "For this question, your task is to find a *scaling factor*, called $s_W$ for each convolutional and fully connected layer,\n",
    "which would fit inside an 8-bit signed integer.\n",
    "This equation can now be described as the following:\n",
    "\n",
    "<!-- $$/*In = Out/s_W$$ -->\n",
    "$$\\frac{W}{s_W}*In = \\frac{Out}{s_W}$$\n",
    "\n",
    "You might wonder: \"Isn't it a problem that the output of the layer has now changed? Wouldn't quantizing the weights change the output of the neural net?\"\n",
    "\n",
    "The answer, of course, is: \"Yes\".\n",
    "However, what we care about is not the *absolute* values output by the CNN, but the relative difference between the probabilities it assigns to different classes for its predictions.\n",
    "Quantizing the weights only scales this relative difference up or down, but it does not affect which class the network assigns the most probability to.\n",
    "Therefore, it does not affect the final predictions that the neural net makes."
   ]
  },
  {
   "cell_type": "markdown",
   "metadata": {},
   "source": [
    "Copy the original model into a new model."
   ]
  },
  {
   "cell_type": "code",
   "execution_count": 12,
   "metadata": {},
   "outputs": [],
   "source": [
    "net_q2 = copy_model(net)"
   ]
  },
  {
   "cell_type": "markdown",
   "metadata": {},
   "source": [
    "### Question 2.1:\n",
    "\n",
    "**Fill in the `quantized_weights` function.**\n",
    "The template code we provide will then call this function on the weights of every layer in the CNN that we just trained at 32-bit floating point precision, to lower them into 8-bit signed integer (2'complement, -128~127) precision."
   ]
  },
  {
   "cell_type": "code",
   "execution_count": 13,
   "metadata": {},
   "outputs": [],
   "source": [
    "from typing import Tuple\n",
    "\n",
    "def quantized_weights(weights: torch.Tensor) -> Tuple[torch.Tensor, float]:\n",
    "    '''\n",
    "    Quantize the weights so that all values are integers between -128 and 127.\n",
    "    You may want to use the maxmimum absolute value of total range, 3-sigma range, \n",
    "    or other ranges for symmetric quantization when deciding just what factors to \n",
    "    scale the float32 values by.\n",
    "\n",
    "    Parameters:\n",
    "    weights (Tensor): The unquantized weights\n",
    "\n",
    "    Returns:\n",
    "    (Tensor, float): A tuple with the following elements:\n",
    "                        * The weights in quantized form, where every value is an integer between -128 and 127.\n",
    "                          The \"dtype\" will still be \"float\", but the values themselves should all be integers.\n",
    "                        * The scaling factor that your weights were multiplied by.\n",
    "                          This value does not need to be an 8-bit integer.\n",
    "    '''\n",
    "\n",
    "    ''' \n",
    "    ADD YOUR CODE HERE to compute 'result' and change 'scale'. \n",
    "    We consider only symmetric quantization, which means zeros point is exactly 0.\n",
    "    After that, return the 'scale' together with the quantized number, 'result', in [-128,127].\n",
    "    '''\n",
    "    scale = torch.max(weights).item() / 127\n",
    "    result = torch.mul(weights, 1 / scale)\n",
    "    result = torch.round(result)\n",
    "    \n",
    "    return torch.clamp(result, min=-128, max=127), 1 / scale"
   ]
  },
  {
   "cell_type": "code",
   "execution_count": 14,
   "metadata": {},
   "outputs": [],
   "source": [
    "def quantize_layer_weights(model: nn.Module):\n",
    "    # Quantize the weights layer by layer and record the scale factors and quantized weights\n",
    "    for layer in model.children():\n",
    "        if isinstance(layer, nn.Conv2d) or isinstance(layer, nn.Linear):\n",
    "            # Quantize the weights using the function you just developed\n",
    "            q_layer_data, scale = quantized_weights(layer.weight.data)\n",
    "            q_layer_data = q_layer_data.to(device)\n",
    "\n",
    "            layer.weight.data = q_layer_data\n",
    "            layer.weight.scale = scale\n",
    "            \n",
    "            # Check if the weights are quantized properly, your code should be okay if no exception is raised.\n",
    "            # Otherwise, please check your code.\n",
    "            if (q_layer_data < -128).any() or (q_layer_data > 127).any():\n",
    "                raise Exception(\"Quantized weights of {} layer include values out of bounds for an 8-bit signed integer\".format(layer.__class__.__name__))\n",
    "            if (q_layer_data != q_layer_data.round()).any():\n",
    "                raise Exception(\"Quantized weights of {} layer include non-integer values\".format(layer.__class__.__name__))\n",
    "\n",
    "quantize_layer_weights(net_q2)"
   ]
  },
  {
   "cell_type": "markdown",
   "metadata": {},
   "source": [
    "### Question 2.2:\n",
    "\n",
    "**Record the accuracy change of the network after quantizing its weights and report. (1 point)**"
   ]
  },
  {
   "cell_type": "code",
   "execution_count": 15,
   "metadata": {},
   "outputs": [
    {
     "name": "stdout",
     "output_type": "stream",
     "text": [
      "Accuracy of the network after quantizing all weights: 62.3%\n"
     ]
    }
   ],
   "source": [
    "score = test(net_q2, testloader)\n",
    "print('Accuracy of the network after quantizing all weights: {}%'.format(score))"
   ]
  },
  {
   "cell_type": "markdown",
   "metadata": {},
   "source": [
    "## Question 3: Visualize Activations"
   ]
  },
  {
   "cell_type": "markdown",
   "metadata": {},
   "source": [
    "Now that we have quantized the weights of the CNN, we must also quantize the activations (inputs and outputs to layers) traveling through it.\n",
    "But before doing so, let's analyze what values the activations take when travelling through the network.\n",
    "\n",
    "We provide convenience code which will record the values of every pixel of the outputs and inputs travelling through the neural network.\n",
    "(This is the initial CNN, where not even the weights had yet been quantized).\n",
    "We then profile these values when running on a subset of the training set (calibration data)."
   ]
  },
  {
   "cell_type": "code",
   "execution_count": 16,
   "metadata": {},
   "outputs": [],
   "source": [
    "def register_activation_profiling_hooks(model: Net):\n",
    "    # initialize the activations with empty ndarray\n",
    "    model.input_activations = np.empty(0)\n",
    "    model.conv1.activations = np.empty(0)\n",
    "    model.conv2.activations = np.empty(0)\n",
    "    model.fc1.activations = np.empty(0)\n",
    "    model.fc2.activations = np.empty(0)\n",
    "    model.fc3.activations = np.empty(0)\n",
    "\n",
    "    model.profile_activations = True\n",
    "\n",
    "    def conv1_activations_hook(layer, x, y):\n",
    "        if model.profile_activations:\n",
    "            model.input_activations = np.append(model.input_activations, x[0].cpu().view(-1))\n",
    "    model.conv1.register_forward_hook(conv1_activations_hook)\n",
    "    # function register_forward_hook is used to obtain the activations, which would otherwise be abandoned as\n",
    "    # intermediate variables. For more details, please refer to \n",
    "    # https://pytorch.org/docs/stable/notes/modules.html#module-initialization\n",
    "    # Module Hooks\n",
    "\n",
    "    def conv2_activations_hook(layer, x, y):\n",
    "        if model.profile_activations:\n",
    "            model.conv1.activations = np.append(model.conv1.activations, x[0].cpu().view(-1))\n",
    "    model.conv2.register_forward_hook(conv2_activations_hook)\n",
    "\n",
    "    def fc1_activations_hook(layer, x, y):\n",
    "        if model.profile_activations:\n",
    "            model.conv2.activations = np.append(model.conv2.activations, x[0].cpu().view(-1))\n",
    "    model.fc1.register_forward_hook(fc1_activations_hook)\n",
    "\n",
    "    def fc2_activations_hook(layer, x, y):\n",
    "        if model.profile_activations:\n",
    "            model.fc1.activations = np.append(model.fc1.activations, x[0].cpu().view(-1))\n",
    "    model.fc2.register_forward_hook(fc2_activations_hook)\n",
    "\n",
    "    def fc3_activations_hook(layer, x, y):\n",
    "        if model.profile_activations:\n",
    "            model.fc2.activations = np.append(model.fc2.activations, x[0].cpu().view(-1))\n",
    "            model.fc3.activations = np.append(model.fc3.activations, y[0].cpu().view(-1))\n",
    "    model.fc3.register_forward_hook(fc3_activations_hook)\n"
   ]
  },
  {
   "cell_type": "markdown",
   "metadata": {},
   "source": [
    "Use the unquantized model to profile input and output activations on a subset of the training dataset."
   ]
  },
  {
   "cell_type": "code",
   "execution_count": 17,
   "metadata": {},
   "outputs": [],
   "source": [
    "net_q3 = copy_model(net)\n",
    "# activate the hook record activations\n",
    "register_activation_profiling_hooks(net_q3)\n",
    "\n",
    "# Run through the training dataset again while profiling the input and output activations this time\n",
    "# We don't actually have to perform gradient descent for this, so we can use the \"test\" function\n",
    "test(net_q3, trainloader, max_samples=1000)\n",
    "net_q3.profile_activations = False"
   ]
  },
  {
   "cell_type": "code",
   "execution_count": 18,
   "metadata": {},
   "outputs": [],
   "source": [
    "# Fetch the activations\n",
    "input_activations = net_q3.input_activations\n",
    "conv1_output_activations = net_q3.conv1.activations\n",
    "conv2_output_activations = net_q3.conv2.activations\n",
    "fc1_output_activations = net_q3.fc1.activations\n",
    "fc2_output_activations = net_q3.fc2.activations\n",
    "fc3_output_activations = net_q3.fc3.activations"
   ]
  },
  {
   "cell_type": "markdown",
   "metadata": {},
   "source": [
    "### Question 3.1:\n",
    "\n",
    "**Plot histograms of the input images and the outputs of every convolutional and fully-connected layer. \n",
    "Record any observations you make about the distribution of the values. (0.5 point)** Remember that you are plotting the activations *after* activation functions like ReLU have been applied, which means that you should not be worried if you find that your plots are asymmetric."
   ]
  },
  {
   "cell_type": "code",
   "execution_count": 19,
   "metadata": {},
   "outputs": [
    {
     "data": {
      "image/png": "[encoded data removed]",
      "text/plain": [
       "<Figure size 1000x600 with 6 Axes>"
      ]
     },
     "metadata": {},
     "output_type": "display_data"
    }
   ],
   "source": [
    "# ADD YOUR CODE HERE to plot distributions of activations\n",
    "# Plot histograms of the following variables:\n",
    "#   input_activations\n",
    "#   conv1_output_activations\n",
    "#   conv2_output_activations\n",
    "#   fc1_output_activations\n",
    "#   fc2_output_activations\n",
    "#   fc3_output_activation\n",
    "\n",
    "def plot_activation_distributions():\n",
    "    activations = {\n",
    "        \"Input Activations\": input_activations,\n",
    "        \"Conv1 Output Activations\": conv1_output_activations,\n",
    "        \"Conv2 Output Activations\": conv2_output_activations,\n",
    "        \"FC1 Output Activations\": fc1_output_activations,\n",
    "        \"FC2 Output Activations\": fc2_output_activations,\n",
    "        \"FC3 Output Activations\": fc3_output_activations\n",
    "    }\n",
    "    \n",
    "    fig, axs = plt.subplots(2, 3, figsize=(10, 6))\n",
    "    axs = axs.flatten()\n",
    "    \n",
    "    for i, (title, data) in enumerate(activations.items()):\n",
    "        axs[i].hist(data, bins=50, alpha=0.7)\n",
    "        axs[i].set_title(title)\n",
    "        axs[i].set_xlabel(\"Activation Value\")\n",
    "    \n",
    "    plt.tight_layout()\n",
    "    plt.show()\n",
    "\n",
    "plot_activation_distributions()"
   ]
  },
  {
   "cell_type": "markdown",
   "metadata": {},
   "source": [
    "### Question 3.2:\n",
    "\n",
    "Additionally, **report the range of the values, as well as their 3-sigma range (the difference between $\\mu + 3\\sigma$ and $\\mu - 3\\sigma$) (0.5 point)**.\n",
    "For which layers is the 3-sigma range larger or smaller than the actual range?"
   ]
  },
  {
   "cell_type": "code",
   "execution_count": 20,
   "metadata": {},
   "outputs": [
    {
     "name": "stdout",
     "output_type": "stream",
     "text": [
      "Input Activations: 3-sigma range is larger than actual range\n",
      "Conv1 Output Activations: 3-sigma range is smaller than actual range\n",
      "Conv2 Output Activations: 3-sigma range is smaller than actual range\n",
      "FC1 Output Activations: 3-sigma range is smaller than actual range\n",
      "FC2 Output Activations: 3-sigma range is smaller than actual range\n",
      "FC3 Output Activations: 3-sigma range is larger than actual range\n",
      "actual_range: {'Input Activations': 2.0, 'Conv1 Output Activations': 16.975147247314453, 'Conv2 Output Activations': 27.601621627807617, 'FC1 Output Activations': 31.40557289123535, 'FC2 Output Activations': 24.421527862548828, 'FC3 Output Activations': 23.417654991149902}\n",
      "sigma_range: {'Input Activations': 3.0112576374238227, 'Conv1 Output Activations': 7.132098814289924, 'Conv2 Output Activations': 9.091101007569751, 'FC1 Output Activations': 7.561430030618817, 'FC2 Output Activations': 8.248454613817184, 'FC3 Output Activations': 29.95615690643318}\n"
     ]
    }
   ],
   "source": [
    "# ADD YOUR CODE HERE to record the range and 3-sigma range of the activations\n",
    "def analyze_activation_range():\n",
    "    activations = {\n",
    "        \"Input Activations\": input_activations,\n",
    "        \"Conv1 Output Activations\": conv1_output_activations,\n",
    "        \"Conv2 Output Activations\": conv2_output_activations,\n",
    "        \"FC1 Output Activations\": fc1_output_activations,\n",
    "        \"FC2 Output Activations\": fc2_output_activations,\n",
    "        \"FC3 Output Activations\": fc3_output_activations\n",
    "    }\n",
    "    actual_ranges = {}\n",
    "    sigma_ranges = {}\n",
    "    \n",
    "    for name, activation in activations.items():\n",
    "        actual_ranges[name] = np.max(activation) - np.min(activation)\n",
    "        sigma_ranges[name] = 6 * np.std(activation)\n",
    "\n",
    "    activation_names = list(activations.keys())\n",
    "    for i in range(len(activation_names)):\n",
    "        name = activation_names[i]\n",
    "        if sigma_ranges[name] > actual_ranges[name]:\n",
    "            print(f\"{name}: 3-sigma range is larger than actual range\")\n",
    "        else:\n",
    "            print(f\"{name}: 3-sigma range is smaller than actual range\")\n",
    "    \n",
    "    print(f\"actual_range: {actual_ranges}\")\n",
    "    print(f\"sigma_range: {sigma_ranges}\")\n",
    "\n",
    "\n",
    "analyze_activation_range()\n",
    "\n"
   ]
  },
  {
   "cell_type": "markdown",
   "metadata": {},
   "source": [
    "## Question 4: Quantize Activations"
   ]
  },
  {
   "cell_type": "markdown",
   "metadata": {},
   "source": [
    "Now it is time to quantize the activations (inputs and outputs to layers) traveling through the CNN.\n",
    "Our equation now becomes:\n",
    "\n",
    "$$\\frac{W}{s_W}*\\frac{In}{s_{In}}*\\frac{1}{s_{Out} }= \\frac{Out}{s_Ws_{In}s_{Out}}$$\n",
    "\n",
    "where $s_{In}$ is the scaling factor which was applied to the input to the layer, and $s_{Out}$ is the scaling factor which we decide to apply to the output of the layer.\n",
    "$s_{Out}$ must be chosen such that the expected values of the elements of $Out$ can be scaled down to fit within 8 bits."
   ]
  },
  {
   "cell_type": "markdown",
   "metadata": {},
   "source": [
    "### Question 4.1:\n",
    "\n",
    "Before performing any quantization at all, we could describe the output of the `conv1` layer as:\n",
    "\n",
    "$$W_{conv1} * In = Out_{conv1}$$\n",
    "\n",
    "Suppose that we quantized the input matrix, $In$, scaling it by $s_{In}$.\n",
    "Suppose that we also scaled the weight matrix, $W_{conv1}$, by $s_{W_{conv1}}$, and the output matrix, $Out_{conv1}$, by $s_{Out_{conv1}}$.\n",
    "\n",
    "**In the lab report answer the following sub-questions for 4.1 (1 point).**:\n",
    "\n",
    "**(a)** Write an equation describing the output of the `conv1` layer with these new scaling parameters.\n",
    "\n",
    "**(b)** Write an equation describing the output of the `conv2` layer in terms of $In$, $W_{conv1}$, $W_{conv2}$, $Out_{conv1}$, $Out_{conv2}$, $s_{In}$, $s_{W_{conv1}}$, $s_{W_{conv2}}$, $s_{Out_{conv1}}$, and $s_{Out_{conv2}}$.\n",
    "You can pretend that the pooling layers do not exist."
   ]
  },
  {
   "cell_type": "markdown",
   "metadata": {},
   "source": [
    "### Question 4.2:\n",
    "\n",
    "**Complete the `quantize_initial_input` and `quantize_activations` functions which calculate the scaling factors for the initial image which is input to the CNN, and the outputs of each layer, respectively.** Again you can use 3-sigma range or min-max range.\n",
    "\n",
    "### Question 4.3:\n",
    "\n",
    "**Complete the `forward` function for the `NetQuantized` class.\n",
    "You will have to add code here to scale the outputs of each layer, and then to clamp the outputs of each layer to integers between -128 and 127 afterwards.**\n",
    "\n",
    "**Be careful with the data type (ndarray/tensor/scalar/tuple/float) specified and required by each function.**"
   ]
  },
  {
   "cell_type": "code",
   "execution_count": 21,
   "metadata": {},
   "outputs": [],
   "source": [
    "from typing import List\n",
    "\n",
    "class NetQuantized(nn.Module):\n",
    "    def __init__(self, net_with_weights_quantized: nn.Module):\n",
    "        super(NetQuantized, self).__init__()\n",
    "        \n",
    "        net_init = copy_model(net_with_weights_quantized)\n",
    "\n",
    "        self.conv1 = net_init.conv1\n",
    "        self.pool = net_init.pool\n",
    "        self.conv2 = net_init.conv2\n",
    "        self.fc1 = net_init.fc1\n",
    "        self.fc2 = net_init.fc2\n",
    "        self.fc3 = net_init.fc3\n",
    "\n",
    "        for layer in self.conv1, self.conv2, self.fc1, self.fc2, self.fc3:\n",
    "            def pre_hook(l, x):\n",
    "                x = x[0]\n",
    "                if (x < -128).any() or (x > 127).any():\n",
    "                    raise Exception(\"Input to {} layer is out of bounds for an 8-bit signed integer\".format(l.__class__.__name__))\n",
    "                if (x != x.round()).any():\n",
    "                    raise Exception(\"Input to {} layer has non-integer values\".format(l.__class__.__name__))\n",
    "\n",
    "            layer.register_forward_pre_hook(pre_hook)\n",
    "\n",
    "        # Calculate the scaling factor for the initial input to the CNN\n",
    "        self.input_activations = net_with_weights_quantized.input_activations\n",
    "        self.input_scale = NetQuantized.quantize_initial_input(self.input_activations)\n",
    "\n",
    "        # Calculate the output scaling factors for all the layers of the CNN\n",
    "        preceding_layer_scales = []\n",
    "        for layer in self.conv1, self.conv2, self.fc1, self.fc2, self.fc3:\n",
    "            layer.output_scale = NetQuantized.quantize_activations(layer.activations, layer.weight.scale, self.input_scale, preceding_layer_scales)\n",
    "            preceding_layer_scales.append((layer.weight.scale, layer.output_scale))\n",
    "\n",
    "    @staticmethod\n",
    "    def quantize_initial_input(pixels: np.ndarray) -> float:\n",
    "        '''\n",
    "        Calculate a scaling factor for the images that are input to the first layer of the CNN.\n",
    "        Remember to use symmetric scaling (zero-point = 0)\n",
    "        Parameters:\n",
    "        pixels (ndarray): The values of all the pixels which were part of the input image during training\n",
    "\n",
    "        Returns:\n",
    "        float: A scaling factor that the input should be multiplied by before being fed into the first layer.\n",
    "               This value does not need to be an 8-bit integer.\n",
    "        '''\n",
    "\n",
    "        # ADD YOUR CODE HERE\n",
    "        #TODO use per-tensor to quant\n",
    "        # 找到范围内绝对值的最大值，除以，将其转换到（0，1）之间，\n",
    "        # [500, 600] -> [5/6, 1] -> [-127, 128]\n",
    "        scale = 127 / np.max(pixels)\n",
    "        return scale\n",
    "\n",
    "    @staticmethod\n",
    "    def quantize_activations(activations: np.ndarray, s_w: float, s_initial_input: float, ss: List[Tuple[float, float]]) -> float:\n",
    "        '''\n",
    "        Calculate a scaling factor to multiply the output of a layer by.\n",
    "        Remember to use symmetric scaling (zero-point = 0)\n",
    "        Parameters:\n",
    "        activations (ndarray): The values of all the pixels which have been output by this layer during training\n",
    "        s_w (float): The scale by which the weights of this layer were multiplied as part of the \"quantize_weights\" function you wrote earlier\n",
    "        s_initial_input (float): The scale by which the initial input to the neural network was multiplied\n",
    "        ss ([(float, float)]): A list of tuples, where each tuple represents the \"weight scale\" and \"output scale\" (in that order) for every preceding layer\n",
    "\n",
    "        Returns:\n",
    "        float: A scaling factor that the layer output should be multiplied by before being fed into the first layer.\n",
    "               This value does not need to be an 8-bit integer.\n",
    "        '''\n",
    "        \n",
    "        #ADD YOUR CODE HERE\n",
    "        print(f\"Activations shape: {activations.shape}\")\n",
    "        print(f\"Activations min: {np.min(activations)}, max: {np.max(activations)}\")\n",
    "\n",
    "        output_scale = s_initial_input * s_w\n",
    "\n",
    "        for i, (prev_w, prev_out) in enumerate(ss):\n",
    "            print(f\"Preceding layer {i} : weight scale: {prev_w}, output scale: {prev_out}\")\n",
    "            output_scale *= prev_w * prev_out\n",
    "            print(f\"Updated output_scale after layer {i}: {output_scale}\")\n",
    "\n",
    "        activation_scale = 127 / np.max(np.abs(activations))\n",
    "        output_scale *= activation_scale\n",
    "        print(f\"final_output_scale:{1 / output_scale}\")\n",
    "\n",
    "        return s_w / output_scale\n",
    "\n",
    "    def forward(self, x: torch.Tensor) -> torch.Tensor:\n",
    "        # You can access the output activation scales like this:\n",
    "        #   fc1_output_scale = self.fc1.output_scale\n",
    "\n",
    "        # To make sure that the outputs of each layer are integers between -128 and 127, you may need to use the following functions:\n",
    "        #   * torch.round\n",
    "        #   * torch.clamp\n",
    "\n",
    "        # ADD YOUR CODE HERE\n",
    "       \n",
    "        def quantize_int8(x, scale):\n",
    "            x = torch.round(x * scale)\n",
    "            x = torch.clamp(x, min=-128, max=127)\n",
    "            return x\n",
    "\n",
    "        x = quantize_int8(x, self.input_scale)\n",
    "        \n",
    "        x = F.relu(self.conv1(x))\n",
    "        x = self.pool(x)\n",
    "\n",
    "        x = quantize_int8(x, self.conv1.output_scale)\n",
    "\n",
    "        x = F.relu(self.conv2(x))\n",
    "        x = self.pool(x)\n",
    "\n",
    "        x = quantize_int8(x, self.conv2.output_scale)\n",
    "\n",
    "        x = x.view(-1, 32 * 6 * 6)\n",
    "\n",
    "        x = F.relu(self.fc1(x))\n",
    "        x = quantize_int8(x, self.fc1.output_scale)\n",
    "\n",
    "        x = F.relu(self.fc2(x))\n",
    "        x = quantize_int8(x, self.fc2.output_scale)\n",
    "        \n",
    "        x = self.fc3(x)\n",
    "        x = quantize_int8(x, self.fc3.output_scale)\n",
    "\n",
    "        return x"
   ]
  },
  {
   "cell_type": "code",
   "execution_count": 22,
   "metadata": {},
   "outputs": [
    {
     "name": "stdout",
     "output_type": "stream",
     "text": [
      "Activations shape: (2587200,)\n",
      "Activations min: 0.0, max: 16.975147247314453\n",
      "final_output_scale:8.426046284061745e-06\n",
      "Activations shape: (1267200,)\n",
      "Activations min: 0.0, max: 27.601621627807617\n",
      "Preceding layer 0 : weight scale: 124.90570295664571, output scale: 0.0010524612342559646\n",
      "Updated output_scale after layer 0: 2555.945090110642\n",
      "final_output_scale:8.50314054904661e-05\n",
      "Activations shape: (281600,)\n",
      "Activations min: 0.0, max: 31.40557289123535\n",
      "Preceding layer 0 : weight scale: 124.90570295664571, output scale: 0.0010524612342559646\n",
      "Updated output_scale after layer 0: 8501.285401038725\n",
      "Preceding layer 1 : weight scale: 153.09444138876006, output scale: 0.013017835524064053\n",
      "Updated output_scale after layer 1: 16942.70694061693\n",
      "final_output_scale:1.4595541101446553e-05\n",
      "Activations shape: (70400,)\n",
      "Activations min: 0.0, max: 24.421527862548828\n",
      "Preceding layer 0 : weight scale: 124.90570295664571, output scale: 0.0010524612342559646\n",
      "Updated output_scale after layer 0: 7278.067168625875\n",
      "Preceding layer 1 : weight scale: 153.09444138876006, output scale: 0.013017835524064053\n",
      "Updated output_scale after layer 1: 14504.884063424954\n",
      "Preceding layer 2 : weight scale: 509.20481218245004, output scale: 0.007432119765263322\n",
      "Updated output_scale after layer 2: 54893.315260354124\n",
      "final_output_scale:3.5030767237988625e-06\n",
      "Activations shape: (110,)\n",
      "Activations min: -10.191011428833008, max: 13.226643562316895\n",
      "Preceding layer 0 : weight scale: 124.90570295664571, output scale: 0.0010524612342559646\n",
      "Updated output_scale after layer 0: 3272.674336607401\n",
      "Preceding layer 1 : weight scale: 153.09444138876006, output scale: 0.013017835524064053\n",
      "Updated output_scale after layer 1: 6522.303343732259\n",
      "Preceding layer 2 : weight scale: 509.20481218245004, output scale: 0.007432119765263322\n",
      "Updated output_scale after layer 2: 24683.46883060967\n",
      "Preceding layer 3 : weight scale: 435.93723193889895, output scale: 0.001527121570242463\n",
      "Updated output_scale after layer 3: 16432.50472774293\n",
      "final_output_scale:6.337853019293647e-06\n"
     ]
    }
   ],
   "source": [
    "# Merge the information from net_q2 and net_q3 together\n",
    "net_init = copy_model(net_q2)  \n",
    "net_init.input_activations = deepcopy(net_q3.input_activations) \n",
    "for layer_init, layer_q3 in zip(net_init.children(), net_q3.children()):\n",
    "    if isinstance(layer_init, nn.Conv2d) or isinstance(layer_init, nn.Linear):\n",
    "        layer_init.activations = deepcopy(layer_q3.activations)\n",
    "\n",
    "net_quantized = NetQuantized(net_init)"
   ]
  },
  {
   "cell_type": "markdown",
   "metadata": {},
   "source": [
    "### Question 4.4:\n",
    "\n",
    "Finally, record the accuracy of your network after both weights and activations have been quantized.\n",
    "If you've done everything right, you should still find little accuracy change. **Report the accuracy. (1 point)**"
   ]
  },
  {
   "cell_type": "code",
   "execution_count": 23,
   "metadata": {},
   "outputs": [
    {
     "name": "stdout",
     "output_type": "stream",
     "text": [
      "Accuracy of the network after quantizing both weights and activations: 59.34%\n"
     ]
    }
   ],
   "source": [
    "score = test(net_quantized, testloader)\n",
    "print('Accuracy of the network after quantizing both weights and activations: {}%'.format(score))"
   ]
  },
  {
   "cell_type": "markdown",
   "metadata": {},
   "source": [
    "## Question 5: Quantize Biases\n",
    "Let us now update our CNN to include a bias in its final layer, *fc3*.\n",
    "We have already included code to create and train a new CNN called `net_with_bias`.\n",
    "\n",
    "Consider how a bias affects the equation for an unquantized layer:\n",
    "\n",
    "$$W * In + \\beta = Out$$\n",
    "\n",
    "where $\\beta$ is the bias."
   ]
  },
  {
   "cell_type": "markdown",
   "metadata": {},
   "source": [
    "### Question 5.1:\n",
    "\n",
    "Suppose that we again quantized a biased layer with the same scaling factors we used in previous questions: $s_W$, $s_{In}$, and $s_{Out}$.\n",
    "What would we scale $\\beta$ by in this case?\n",
    "**Write an equation in your lab report to describe the output of the quantized layer with a bias (1 point).**"
   ]
  },
  {
   "cell_type": "markdown",
   "metadata": {},
   "source": [
    "Create a new network with a bias on *fc3*."
   ]
  },
  {
   "cell_type": "code",
   "execution_count": 24,
   "metadata": {},
   "outputs": [],
   "source": [
    "class NetWithBias(nn.Module):\n",
    "    def __init__(self):\n",
    "        super(NetWithBias, self).__init__()\n",
    "\n",
    "        self.conv1 = nn.Conv2d(3, 12, 5, bias=False)\n",
    "        self.pool = nn.MaxPool2d(2, 2)\n",
    "        self.conv2 = nn.Conv2d(12, 32, 3, bias=False)\n",
    "        self.fc1 = nn.Linear(32 * 6 * 6, 256, bias=False)\n",
    "        self.fc2 = nn.Linear(256, 64, bias=False)\n",
    "        self.fc3 = nn.Linear(64, 10, bias=True)\n",
    "\n",
    "    def forward(self, x: torch.Tensor) -> torch.Tensor:\n",
    "        x = self.pool(F.relu(self.conv1(x)))\n",
    "        x = self.pool(F.relu(self.conv2(x)))\n",
    "        x = x.view(-1, 32 * 6 * 6)\n",
    "        x = F.relu(self.fc1(x))\n",
    "        x = F.relu(self.fc2(x))\n",
    "        x = self.fc3(x)\n",
    "        return x\n",
    "\n",
    "net_with_bias = NetWithBias().to(device)"
   ]
  },
  {
   "cell_type": "markdown",
   "metadata": {},
   "source": [
    "Train and score the network."
   ]
  },
  {
   "cell_type": "code",
   "execution_count": 25,
   "metadata": {},
   "outputs": [
    {
     "name": "stdout",
     "output_type": "stream",
     "text": [
      "[Epoch: 1, Iteration:   100] loss: 2.254\n",
      "[Epoch: 1, Iteration:   200] loss: 1.928\n",
      "[Epoch: 1, Iteration:   300] loss: 1.675\n",
      "[Epoch: 1, Iteration:   400] loss: 1.591\n",
      "[Epoch: 1, Iteration:   500] loss: 1.514\n",
      "[Epoch: 2, Iteration:   100] loss: 1.427\n",
      "[Epoch: 2, Iteration:   200] loss: 1.375\n",
      "[Epoch: 2, Iteration:   300] loss: 1.288\n",
      "[Epoch: 2, Iteration:   400] loss: 1.285\n",
      "[Epoch: 2, Iteration:   500] loss: 1.222\n",
      "[Epoch: 3, Iteration:   100] loss: 1.166\n",
      "[Epoch: 3, Iteration:   200] loss: 1.157\n",
      "[Epoch: 3, Iteration:   300] loss: 1.092\n",
      "[Epoch: 3, Iteration:   400] loss: 1.080\n",
      "[Epoch: 3, Iteration:   500] loss: 1.040\n",
      "[Epoch: 4, Iteration:   100] loss: 0.991\n",
      "[Epoch: 4, Iteration:   200] loss: 0.983\n",
      "[Epoch: 4, Iteration:   300] loss: 0.954\n",
      "[Epoch: 4, Iteration:   400] loss: 0.942\n",
      "[Epoch: 4, Iteration:   500] loss: 0.900\n",
      "[Epoch: 5, Iteration:   100] loss: 0.862\n",
      "[Epoch: 5, Iteration:   200] loss: 0.857\n",
      "[Epoch: 5, Iteration:   300] loss: 0.819\n",
      "[Epoch: 5, Iteration:   400] loss: 0.819\n",
      "[Epoch: 5, Iteration:   500] loss: 0.795\n",
      "[Epoch: 6, Iteration:   100] loss: 0.751\n",
      "[Epoch: 6, Iteration:   200] loss: 0.770\n",
      "[Epoch: 6, Iteration:   300] loss: 0.725\n",
      "[Epoch: 6, Iteration:   400] loss: 0.721\n",
      "[Epoch: 6, Iteration:   500] loss: 0.709\n",
      "[Epoch: 7, Iteration:   100] loss: 0.660\n",
      "[Epoch: 7, Iteration:   200] loss: 0.706\n",
      "[Epoch: 7, Iteration:   300] loss: 0.652\n",
      "[Epoch: 7, Iteration:   400] loss: 0.619\n",
      "[Epoch: 7, Iteration:   500] loss: 0.640\n",
      "[Epoch: 8, Iteration:   100] loss: 0.583\n",
      "[Epoch: 8, Iteration:   200] loss: 0.642\n",
      "[Epoch: 8, Iteration:   300] loss: 0.572\n",
      "[Epoch: 8, Iteration:   400] loss: 0.571\n",
      "[Epoch: 8, Iteration:   500] loss: 0.596\n",
      "[Epoch: 9, Iteration:   100] loss: 0.528\n",
      "[Epoch: 9, Iteration:   200] loss: 0.558\n",
      "[Epoch: 9, Iteration:   300] loss: 0.543\n",
      "[Epoch: 9, Iteration:   400] loss: 0.542\n",
      "[Epoch: 9, Iteration:   500] loss: 0.534\n",
      "[Epoch: 10, Iteration:   100] loss: 0.486\n",
      "[Epoch: 10, Iteration:   200] loss: 0.472\n",
      "[Epoch: 10, Iteration:   300] loss: 0.463\n",
      "[Epoch: 10, Iteration:   400] loss: 0.467\n",
      "[Epoch: 10, Iteration:   500] loss: 0.492\n",
      "Finished Training\n"
     ]
    }
   ],
   "source": [
    "train(net_with_bias, trainloader)"
   ]
  },
  {
   "cell_type": "code",
   "execution_count": 26,
   "metadata": {},
   "outputs": [
    {
     "name": "stdout",
     "output_type": "stream",
     "text": [
      "Accuracy of the network (with a bias) on the test images: 63.89%\n"
     ]
    }
   ],
   "source": [
    "score = test(net_with_bias, testloader)\n",
    "print('Accuracy of the network (with a bias) on the test images: {}%'.format(score))"
   ]
  },
  {
   "cell_type": "markdown",
   "metadata": {},
   "source": [
    "Test the network with quantized weights but unquantized bias and **report the accuracy (1 point)**."
   ]
  },
  {
   "cell_type": "code",
   "execution_count": 27,
   "metadata": {},
   "outputs": [],
   "source": [
    "register_activation_profiling_hooks(net_with_bias)\n",
    "test(net_with_bias, trainloader, max_samples=400)\n",
    "net_with_bias.profile_activations = False"
   ]
  },
  {
   "cell_type": "code",
   "execution_count": 28,
   "metadata": {},
   "outputs": [
    {
     "name": "stdout",
     "output_type": "stream",
     "text": [
      "Accuracy of the network on the test images after all the weights are quantized but the bias isn't: 60.89%\n"
     ]
    }
   ],
   "source": [
    "net_with_bias_with_quantized_weights = copy_model(net_with_bias)\n",
    "quantize_layer_weights(net_with_bias_with_quantized_weights)\n",
    "\n",
    "score = test(net_with_bias_with_quantized_weights, testloader)\n",
    "print('Accuracy of the network on the test images after all the weights are quantized but the bias isn\\'t: {}%'.format(score))"
   ]
  },
  {
   "cell_type": "markdown",
   "metadata": {},
   "source": [
    "### Question 5.2:\n",
    "\n",
    "Fill in the `quantized_bias` function in the `NetQuantizedWithBias` class.\n",
    "This function is meant to quantize the bias on the final layer of the CNN. You are suggested to use the method covered in the lecture.\n",
    "Keep in mind that biases are typically quantized to 32-bits, so your bias values do not all have to be between -128 and 127 (though 32-bits is a bit conservative)."
   ]
  },
  {
   "cell_type": "code",
   "execution_count": 29,
   "metadata": {},
   "outputs": [],
   "source": [
    "# slightly clearer bias bounds (32b signed integer)\n",
    "MIN_32B_SINT = -(2**31)\n",
    "MAX_32B_SINT = (2**31) - 1"
   ]
  },
  {
   "cell_type": "code",
   "execution_count": 30,
   "metadata": {},
   "outputs": [],
   "source": [
    "class NetQuantizedWithBias(NetQuantized): # get quantized weights & activations\n",
    "    def __init__(self, net_with_weights_quantized: nn.Module):\n",
    "        super(NetQuantizedWithBias, self).__init__(net_with_weights_quantized)\n",
    "        \n",
    "        preceding_scales = [(layer.weight.scale, layer.output_scale) for layer in self.children() if isinstance(layer, nn.Conv2d) or isinstance(layer, nn.Linear)][:-1]\n",
    "\n",
    "        #print(self.fc3.bias.data)\n",
    "        self.fc3.bias.data = NetQuantizedWithBias.quantized_bias(\n",
    "            self.fc3.bias.data,\n",
    "            self.fc3.weight.scale,\n",
    "            self.input_scale,\n",
    "            preceding_scales\n",
    "        )\n",
    "        #print(self.fc3.bias.data)\n",
    "\n",
    "        if (self.fc3.bias.data < MIN_32B_SINT).any() or (self.fc3.bias.data > MAX_32B_SINT).any():\n",
    "               raise Exception(\"Bias has values which are out of bounds for an 32-bit signed integer\")\n",
    "        if (self.fc3.bias.data != self.fc3.bias.data.round()).any():\n",
    "             raise Exception(\"Bias has non-integer values\")\n",
    "\n",
    "    @staticmethod\n",
    "    def quantized_bias(bias: torch.Tensor, s_w: float, s_initial_input: float, ss: List[Tuple[float, float]]) -> torch.Tensor:\n",
    "        '''\n",
    "        Quantize the bias so that all values are integers between MIN_32B_SINT and MAX_32B_SINT.\n",
    "\n",
    "        Parameters:\n",
    "        bias (Tensor): The floating point values of the bias\n",
    "        s_w (float): The scale by which the weights of this layer were multiplied\n",
    "        s_initial_input (float): The scale by which the initial input to the neural network was multiplied\n",
    "        ss ([(float, float)]): A list of tuples, where each tuple represents the \"weight scale\" and \"output scale\" (in that order) for every preceding layer\n",
    "\n",
    "        Returns:\n",
    "        Tensor: The bias in quantized form, where every value is an integer between MIN_32B_SINT and MAX_32B_SINT.\n",
    "                The \"dtype\" will still be \"float\", but the values themselves should all be integers.\n",
    "        '''\n",
    "\n",
    "        # ADD YOUR CODE HERE to compute and replace the scale for bias (scale_bias)\n",
    "        scale_bias = s_w * s_initial_input\n",
    "        for s_weight, s_output in ss:\n",
    "             scale_bias *= s_output * s_weight\n",
    "\n",
    "        return torch.clamp((bias * scale_bias).round(), min=MIN_32B_SINT, max=MAX_32B_SINT)\n"
   ]
  },
  {
   "cell_type": "code",
   "execution_count": 31,
   "metadata": {},
   "outputs": [
    {
     "name": "stdout",
     "output_type": "stream",
     "text": [
      "Activations shape: (1176000,)\n",
      "Activations min: 0.0, max: 19.792259216308594\n",
      "final_output_scale:9.923755463515677e-06\n",
      "Activations shape: (576000,)\n",
      "Activations min: 0.0, max: 24.517107009887695\n",
      "Preceding layer 0 : weight scale: 123.65505479933027, output scale: 0.0012271225256561841\n",
      "Updated output_scale after layer 0: 2626.460794502271\n",
      "final_output_scale:7.350122533567566e-05\n",
      "Activations shape: (128000,)\n",
      "Activations min: 0.0, max: 21.6428279876709\n",
      "Preceding layer 0 : weight scale: 123.65505479933027, output scale: 0.0012271225256561841\n",
      "Updated output_scale after layer 0: 10387.930351038569\n",
      "Preceding layer 1 : weight scale: 136.29106930629737, output scale: 0.010017560596322351\n",
      "Updated output_scale after layer 1: 14182.683332784423\n",
      "final_output_scale:1.2015777579474482e-05\n",
      "Activations shape: (32000,)\n",
      "Activations min: 0.0, max: 16.46605682373047\n",
      "Preceding layer 0 : weight scale: 123.65505479933027, output scale: 0.0012271225256561841\n",
      "Updated output_scale after layer 0: 8672.552139852985\n",
      "Preceding layer 1 : weight scale: 136.29106930629737, output scale: 0.010017560596322351\n",
      "Updated output_scale after layer 1: 11840.670521467202\n",
      "Preceding layer 2 : weight scale: 539.0456002183297, output scale: 0.006477052037417771\n",
      "Updated output_scale after layer 2: 41340.82968971224\n",
      "final_output_scale:3.1362213025516485e-06\n",
      "Activations shape: (50,)\n",
      "Activations min: -7.295343399047852, max: 14.239712715148926\n",
      "Preceding layer 0 : weight scale: 123.65505479933027, output scale: 0.0012271225256561841\n",
      "Updated output_scale after layer 0: 3943.683308694702\n",
      "Preceding layer 1 : weight scale: 136.29106930629737, output scale: 0.010017560596322351\n",
      "Updated output_scale after layer 1: 5384.32677558456\n",
      "Preceding layer 2 : weight scale: 539.0456002183297, output scale: 0.006477052037417771\n",
      "Updated output_scale after layer 2: 18798.98066749153\n",
      "Preceding layer 3 : weight scale: 450.0320001841774, output scale: 0.0014113999458075445\n",
      "Updated output_scale after layer 3: 11940.64518995679\n",
      "final_output_scale:9.390089093412945e-06\n"
     ]
    }
   ],
   "source": [
    "net_quantized_with_bias = NetQuantizedWithBias(net_with_bias_with_quantized_weights)"
   ]
  },
  {
   "cell_type": "markdown",
   "metadata": {},
   "source": [
    "### Question 5.3:\n",
    "\n",
    "What is your accuracy before and after quantizing CNN with the bias?\n",
    "The accuracy change should ideally be negligible or at least partially improved. **Report the value. (1 point)**"
   ]
  },
  {
   "cell_type": "code",
   "execution_count": 32,
   "metadata": {},
   "outputs": [
    {
     "name": "stdout",
     "output_type": "stream",
     "text": [
      "Accuracy of the network on the test images after all the weights and the bias are quantized: 56.03%\n"
     ]
    }
   ],
   "source": [
    "score = test(net_quantized_with_bias, testloader)\n",
    "print('Accuracy of the network on the test images after all the weights and the bias are quantized: {}%'.format(score))"
   ]
  },
  {
   "cell_type": "markdown",
   "metadata": {},
   "source": [
    "###  Bonus:\n",
    "When quantizing weights and activations, please evaluate the impact on model accuracy by comparing the use of the maximum absolute value of the actual range with the maximum absolute value of the 3-sigma range ($\\mu + 3\\sigma$ and $\\mu - 3\\sigma$) for calculating the quantization scale. Include these findings in your report and provide an analysis of the underlying reasons for any observed differences. \n",
    "\n",
    "Additionally, consider employing a third method, such as the entropy-based quantization technique discussed in class. It is recommended that you create a copy of the current script, adjust the scale calculation method in the copy, and re-run the experiments to ensure that your changes do not affect the original results."
   ]
  }
 ],
 "metadata": {
  "kernelspec": {
   "display_name": "torch",
   "language": "python",
   "name": "python3"
  },
  "language_info": {
   "codemirror_mode": {
    "name": "ipython",
    "version": 3
   },
   "file_extension": ".py",
   "mimetype": "text/x-python",
   "name": "python",
   "nbconvert_exporter": "python",
   "pygments_lexer": "ipython3",
   "version": "3.9.19"
  }
 },
 "nbformat": 4,
 "nbformat_minor": 2
}
