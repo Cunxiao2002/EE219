{
 "cells": [
  {
   "cell_type": "markdown",
   "metadata": {},
   "source": [
    "# Lab 1 Numpy CNN for inference"
   ]
  },
  {
   "cell_type": "markdown",
   "metadata": {},
   "source": [
    "In this lab, you are required to fill in the blanks with your code **independently** to complete the inference process of a CNN. Note that there's a bonus at the end of this lab.\n",
    "\n",
    "**Requirements**\n",
    "\n",
    "**1. Complete the codes independently.**\n",
    "\n",
    "**2. Make sure your results are reproducible.**\n",
    "\n",
    "**3. Do not change the structure of the CNN and the given codes.**\n",
    "\n",
    "**4. Do not add additional libraries.**\n",
    "\n",
    "**Submission**\n",
    "\n",
    "**1. Please submit only this ipynb file via Blackboard.**\n",
    "\n",
    "**2. Name the ipynb file as \"StudentID_StudentName\".**\n",
    "\n",
    "**3. Submit before Oct. 22nd 23:59:59.**"
   ]
  },
  {
   "cell_type": "code",
   "execution_count": 58,
   "metadata": {},
   "outputs": [],
   "source": [
    "import numpy as np"
   ]
  },
  {
   "cell_type": "markdown",
   "metadata": {},
   "source": [
    "Define a simple CNN that classifies CIFAR images.\n",
    "The network provided is similar to LeNet-5, and it has the following architecture:\n",
    "\n",
    "**Layer** | **Type** | **Input Shape** | **Output Shape** | **Activation**\n",
    "--- | --- | --- | --- | ---\n",
    "conv1 | Convolutional | 3x32x32 | 12x28x28 | ReLU \n",
    "pool1 | Max pool | 12x28x28 | 12x14x14 | None                \n",
    "conv2 | Convolutional | 12x14x14 | 32x12x12 | ReLU                \n",
    "pool2 | Max pool | 32x12x12 | 32x6x6 | None                \n",
    "fc1 | Fully-connected | 1152 | 256 | ReLU                \n",
    "fc2 | Fully-connected | 256 | 64 | ReLU                \n",
    "fc3 | Fully-connected | 64 | 10 | None                \n",
    "\n",
    "Next, we will build convolution, relu, max-pooling and fully-connected layers using **numpy** respectively (only forward propagation is required for inference)."
   ]
  },
  {
   "cell_type": "code",
   "execution_count": 59,
   "metadata": {},
   "outputs": [],
   "source": [
    "class ReLU():\n",
    "    def __init__(self):\n",
    "        pass\n",
    "\n",
    "    def forward(self,input):\n",
    "        # TODO (5 pts) \n",
    "        # forward propagation for relu layer\n",
    "        output = np.maximum(0, input)\n",
    "\n",
    "        return output"
   ]
  },
  {
   "cell_type": "code",
   "execution_count": 60,
   "metadata": {},
   "outputs": [],
   "source": [
    "class ConvLayer:  \n",
    "    def __init__(self, input_channels, output_channels, kernel_size, stride, padding):   \n",
    "        self.input_channels = input_channels   \n",
    "        self.kernel_size = kernel_size  \n",
    "        self.stride = stride\n",
    "        self.padding = padding \n",
    "        self.output_channels = output_channels\n",
    "  \n",
    "    def forward(self, x, weight):  \n",
    "        \"\"\"    \n",
    "        input x: (N, C, H, W) [batchsize, input channels, x_height, x_width]\n",
    "        input w: (K, C, R, S) [output channels, input channels, w_height, w_width] \n",
    "        output: (N, K, P, Q) [batchsize, output channels, output_height, output_width]\n",
    "        \"\"\"  \n",
    "        N, C, H, W = x.shape\n",
    "        K, C, R, S = weight.shape\n",
    "        \n",
    "        # TODO (5 pts)  \n",
    "        # complete padding operation\n",
    "        input_padded = np.pad(x, ((0, 0), (0, 0), (self.padding, self.padding), (self.padding, self.padding)), mode='constant')\n",
    "\n",
    "        \n",
    "        # TODO (5 pts)  \n",
    "        # compute output size using self.padding and self.stride\n",
    "        P = (H - R + 2 * self.padding) // self.stride + 1\n",
    "        Q = (W - S + 2 * self.padding) // self.stride + 1\n",
    "        \n",
    "        output = np.zeros((N, K, P, Q)) \n",
    "        # TODO (20 pts)\n",
    "        # complete convolution operation\n",
    "        for n in range(N):\n",
    "            for k in range(K):\n",
    "                for p in range(P):\n",
    "                    for q in range(Q):\n",
    "                        output[n, k, p, q] = np.sum(\n",
    "                            input_padded[n, :, p * self.stride: p * self.stride + self.kernel_size, \n",
    "                                         q * self.stride: q * self.stride + self.kernel_size] * weight[k, :, :, :])\n",
    "\n",
    "        return output\n",
    "    \n",
    "    def compute_params(self):\n",
    "        return self.output_channels * self.input_channels * self.kernel_size * self.kernel_size\n",
    "    \n",
    "    def compute_flops(self, input_shape):\n",
    "        N, C, H, W = input_shape\n",
    "        K, C, R, S = self.output_channels, self.input_channels, self.kernel_size, self.kernel_size\n",
    "        \n",
    "        P = (H - R + 2 * self.padding) // self.stride + 1\n",
    "        Q = (W - S + 2 * self.padding) // self.stride + 1\n",
    "        \n",
    "        flops = N * K * P * Q * (R * S * C) * 2\n",
    "        return flops\n",
    "  "
   ]
  },
  {
   "cell_type": "code",
   "execution_count": 61,
   "metadata": {},
   "outputs": [],
   "source": [
    "class MaxPooling2D:  \n",
    "    def __init__(self, pool_size=(2, 2), stride=2):  \n",
    "        self.pool_size = pool_size  \n",
    "        self.stride = stride  \n",
    "  \n",
    "    def forward(self, x):  \n",
    "        \"\"\"    \n",
    "        input x: (N, C, H, W) [batchsize, input channels, x_height, x_width]\n",
    "        output: (N, C, pooled_height, pooled_width)\n",
    "        \"\"\"  \n",
    "        N, C, H, W = x.shape  \n",
    "        # TODO (5 pts) \n",
    "        # compute output size using self.pool_size and self.stride\n",
    "        pooled_height = (H - self.pool_size[0]) // self.stride + 1\n",
    "        pooled_width = (W - self.pool_size[1]) // self.stride + 1\n",
    "  \n",
    "        output = np.zeros((N, C, pooled_height, pooled_width))  \n",
    "        # TODO (10 pts)\n",
    "        # complete max-pooling operation\n",
    "        for n in range(N):\n",
    "            for c in range(C):\n",
    "                for ph in range(pooled_height):\n",
    "                    for pw in range(pooled_width):\n",
    "                        output[n, c, ph, pw] = np.max(x[n, c, ph * self.stride: ph * self.stride + self.pool_size[0],\n",
    "                                                        pw * self.stride: pw * self.stride + self.pool_size[1]])\n",
    "  \n",
    "        return output\n",
    "    \n",
    "    def compute_params(self):\n",
    "        return 0\n",
    "\n",
    "    def compute_flops(self, x):\n",
    "        N, C, H, W = x.shape\n",
    "        pooled_height = (H - self.pool_size[0]) // self.stride + 1\n",
    "        pooled_width = (W - self.pool_size[1]) // self.stride + 1\n",
    "\n",
    "        flops = N * C * pooled_height * pooled_width * self.pool_size[0] * self.pool_size[1]\n",
    "        return flops\n"
   ]
  },
  {
   "cell_type": "code",
   "execution_count": 62,
   "metadata": {},
   "outputs": [],
   "source": [
    "class fclayer():\n",
    "    def __init__(self, in_features, out_features):\n",
    "        self.in_features = in_features\n",
    "        self.out_features = out_features\n",
    "        \n",
    "    def forward(self, x, weight):   \n",
    "        # TODO (10 pts)\n",
    "        # complete forward propagation of fully-connected layer\n",
    "        output = weight @ x\n",
    "        return output  \n",
    "    \n",
    "    def compute_params(self):\n",
    "        params = self.in_features * self.out_features\n",
    "        return params\n",
    "\n",
    "    def compute_flops(self, x):\n",
    "        flops = x[0] * self.in_features * self.out_features\n",
    "        return flops\n",
    "\n",
    "        \n",
    "        "
   ]
  },
  {
   "cell_type": "code",
   "execution_count": 63,
   "metadata": {},
   "outputs": [
    {
     "name": "stderr",
     "output_type": "stream",
     "text": [
      "/tmp/ipykernel_204677/1781738737.py:4: FutureWarning: You are using `torch.load` with `weights_only=False` (the current default value), which uses the default pickle module implicitly. It is possible to construct malicious pickle data which will execute arbitrary code during unpickling (See https://github.com/pytorch/pytorch/blob/main/SECURITY.md#untrusted-models for more details). In a future release, the default value for `weights_only` will be flipped to `True`. This limits the functions that could be executed during unpickling. Arbitrary objects will no longer be allowed to be loaded via this mode unless they are explicitly allowlisted by the user via `torch.serialization.add_safe_globals`. We recommend you start setting `weights_only=True` for any use case where you don't have full control of the loaded file. Please open an issue on GitHub for any issues related to this experimental feature.\n",
      "  ckpt = torch.load('./model/model.pth')\n"
     ]
    }
   ],
   "source": [
    "import torch\n",
    "\n",
    "# load trained parameters\n",
    "ckpt = torch.load('./model/model.pth')"
   ]
  },
  {
   "cell_type": "code",
   "execution_count": 64,
   "metadata": {},
   "outputs": [],
   "source": [
    "import numpy as np\n",
    "import matplotlib.pyplot as plt\n",
    "\n",
    "\n",
    "def lenet_inf(x, ckpt):\n",
    "    conv1 = ConvLayer(input_channels=3, output_channels=12, kernel_size=5, stride=1, padding=0)\n",
    "    relu1 = ReLU()\n",
    "    pool1 = MaxPooling2D(pool_size=(2, 2), stride=2)\n",
    "\n",
    "    conv2 = ConvLayer(input_channels=12, output_channels=32, kernel_size=3, stride=1, padding=0)\n",
    "    relu2 = ReLU()\n",
    "    pool2 = MaxPooling2D(pool_size=(2, 2), stride=2)\n",
    "\n",
    "    fc1 = fclayer(in_features=1152, out_features=256)\n",
    "    relu3 = ReLU()\n",
    "\n",
    "    fc2 = fclayer(in_features=256, out_features=64)\n",
    "    relu4 = ReLU()\n",
    "\n",
    "    fc3 = fclayer(in_features=64, out_features=10)\n",
    "\n",
    "    conv1_weight = ckpt['conv1.weight'].cpu().numpy()\n",
    "    conv2_weight = ckpt['conv2.weight'].cpu().numpy()\n",
    "    fc1_weight = ckpt['fc1.weight'].cpu().numpy()\n",
    "    fc2_weight = ckpt['fc2.weight'].cpu().numpy()\n",
    "    fc3_weight = ckpt['fc3.weight'].cpu().numpy()\n",
    "\n",
    "    params = []\n",
    "    flops = []\n",
    "\n",
    "    params.append(conv1.compute_params())\n",
    "    flops.append(conv1.compute_flops(x.shape))\n",
    "\n",
    "    x = conv1.forward(x, conv1_weight)\n",
    "    x = relu1.forward(x)\n",
    "    x = pool1.forward(x)\n",
    "\n",
    "    params.append(conv2.compute_params())\n",
    "    flops.append(conv2.compute_flops(x.shape))\n",
    "\n",
    "    x = conv2.forward(x, conv2_weight)\n",
    "    x = relu2.forward(x)\n",
    "    x = pool2.forward(x)\n",
    "\n",
    "    x = x.reshape(-1)\n",
    "\n",
    "    params.append(fc1.compute_params())\n",
    "    flops.append(fc1.compute_flops(x.shape))\n",
    "\n",
    "    x = fc1.forward(x, fc1_weight)\n",
    "    x = relu3.forward(x)\n",
    "\n",
    "    params.append(fc2.compute_params())\n",
    "    flops.append(fc2.compute_flops(x.shape))\n",
    "\n",
    "    x = fc2.forward(x, fc2_weight)\n",
    "    x = relu4.forward(x)\n",
    "\n",
    "    params.append(fc3.compute_params())\n",
    "    flops.append(fc3.compute_flops(x.shape))\n",
    "\n",
    "    x = fc3.forward(x, fc3_weight)\n",
    "\n",
    "    output = x\n",
    "\n",
    "    layers = ['conv1', 'conv2', 'fc1', 'fc2', 'fc3']\n",
    "\n",
    "    plt.figure(figsize=(12, 6))\n",
    "\n",
    "    # paramters per layer\n",
    "    plt.subplot(1, 2, 1)\n",
    "    plt.bar(layers, params)\n",
    "    plt.title('Parameters per Layer')\n",
    "    plt.xlabel('Layer')\n",
    "    plt.ylabel('Number of Parameters')\n",
    "\n",
    "    # flops per layer\n",
    "    plt.subplot(1, 2, 2)\n",
    "    plt.bar(layers, flops)\n",
    "    plt.title('flops per Layer')\n",
    "    plt.xlabel('Layer')\n",
    "    plt.ylabel('Number of flops')\n",
    "\n",
    "    plt.tight_layout()\n",
    "    plt.show()\n",
    "\n",
    "    return output"
   ]
  },
  {
   "cell_type": "code",
   "execution_count": 65,
   "metadata": {},
   "outputs": [],
   "source": [
    "import numpy as np\n",
    "import matplotlib.pyplot as plt\n",
    "import imageio.v2 as imageio\n",
    "from skimage.transform import resize\n",
    "\n",
    "# In this lab we will only infer 1 picture from CIFAR-10 datasets to save running time\n",
    "# you can try different pictures in ./pictures\n",
    "input_image = imageio.imread('./pictures/bird1.png')\n",
    "\n",
    "# TODO (5 pts)\n",
    "# normalize the pixel into [0,1]\n",
    "image = input_image / 255.0\n",
    "\n",
    "# TODO (5 pts)\n",
    "# alter the size of the pixel matrix from (32,32,3) to (1,3,32,32) to fit convolution layer\n",
    "image = resize(image, (32, 32, 3), anti_aliasing=True)\n",
    "image = np.transpose(image, (2, 0, 1))\n",
    "image = np.expand_dims(image, axis=0)\n",
    "\n"
   ]
  },
  {
   "cell_type": "code",
   "execution_count": 66,
   "metadata": {},
   "outputs": [
    {
     "data": {
      "image/png": "[encoded data removed]",
      "text/plain": [
       "<Figure size 1200x600 with 2 Axes>"
      ]
     },
     "metadata": {},
     "output_type": "display_data"
    },
    {
     "name": "stdout",
     "output_type": "stream",
     "text": [
      "Predicted label: 3\n",
      "Ground truth: 3\n"
     ]
    },
    {
     "data": {
      "image/png": "[encoded data removed]",
      "text/plain": [
       "<Figure size 640x480 with 1 Axes>"
      ]
     },
     "metadata": {},
     "output_type": "display_data"
    }
   ],
   "source": [
    "# TODO (5 pts)\n",
    "# inference using lenet_inf created above\n",
    "# note that the inference process of 1 picture using numpy may take more than 20 minutes\n",
    "output = lenet_inf(image, ckpt=ckpt)\n",
    "label = np.argmax(output)\n",
    "\n",
    "import matplotlib.pyplot as plt\n",
    "# visualize the picture to be classified\n",
    "plt.imshow(input_image)\n",
    "print(\"Predicted label:\",label)\n",
    "print(\"Ground truth: 3\")"
   ]
  },
  {
   "cell_type": "markdown",
   "metadata": {},
   "source": [
    "Bonus: Calculate the number of computations and parameters. Visualize your results directly in the outputs of your codes. "
   ]
  },
  {
   "cell_type": "markdown",
   "metadata": {},
   "source": [
    "Give your answer here. \n",
    "\n",
    "Predicted label: 3！"
   ]
  }
 ],
 "metadata": {
  "kernelspec": {
   "display_name": "torch",
   "language": "python",
   "name": "python3"
  },
  "language_info": {
   "codemirror_mode": {
    "name": "ipython",
    "version": 3
   },
   "file_extension": ".py",
   "mimetype": "text/x-python",
   "name": "python",
   "nbconvert_exporter": "python",
   "pygments_lexer": "ipython3",
   "version": "3.9.19"
  },
  "orig_nbformat": 4
 },
 "nbformat": 4,
 "nbformat_minor": 2
}
